{
  "nbformat": 4,
  "nbformat_minor": 0,
  "metadata": {
    "colab": {
      "name": "Pru_1.ipynb",
      "provenance": [],
      "collapsed_sections": [],
      "authorship_tag": "ABX9TyO3W5tsIi413U6+p+Aq2i0z"
    },
    "kernelspec": {
      "name": "python3",
      "display_name": "Python 3"
    }
  },
  "cells": [
    {
      "cell_type": "code",
      "metadata": {
        "colab": {
          "base_uri": "https://localhost:8080/"
        },
        "id": "78vAkZEB8r0h",
        "outputId": "8219e89a-519c-4b7a-9b82-bd42b6f796fd"
      },
      "source": [
        "print('PRUEBA1')"
      ],
      "execution_count": null,
      "outputs": [
        {
          "output_type": "stream",
          "text": [
            "PRUEBA1\n"
          ],
          "name": "stdout"
        }
      ]
    }
  ]
}